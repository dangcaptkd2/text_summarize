{
 "cells": [
  {
   "cell_type": "code",
   "execution_count": 1,
   "id": "aa1c1e84",
   "metadata": {},
   "outputs": [
    {
     "name": "stderr",
     "output_type": "stream",
     "text": [
      "/root/miniconda3/envs/podcast_summarization/lib/python3.7/site-packages/tqdm/auto.py:22: TqdmWarning: IProgress not found. Please update jupyter and ipywidgets. See https://ipywidgets.readthedocs.io/en/stable/user_install.html\n",
      "  from .autonotebook import tqdm as notebook_tqdm\n"
     ]
    },
    {
     "name": "stdout",
     "output_type": "stream",
     "text": [
      "/servers/podcast_summarization\n"
     ]
    }
   ],
   "source": [
    "from servers.infer import extract_html, preprocess_title_and_lead, preprocess_content, summarize\n",
    "from train_ly.data import get_data\n",
    "from tqdm import tqdm\n",
    "import pandas as pd"
   ]
  },
  {
   "cell_type": "code",
   "execution_count": 2,
   "id": "de738ebc",
   "metadata": {},
   "outputs": [
    {
     "name": "stdout",
     "output_type": "stream",
     "text": [
      "2023-01-09 11:12:17 INFO  WordSegmenter:24 - Loading Word Segmentation model\n"
     ]
    }
   ],
   "source": [
    "import py_vncorenlp\n",
    "rdrsegmenter = py_vncorenlp.VnCoreNLP(annotators=[\"wseg\"], save_dir='/servers/podcast_summarization/vncorenlp')"
   ]
  },
  {
   "cell_type": "code",
   "execution_count": 3,
   "id": "17925790",
   "metadata": {},
   "outputs": [],
   "source": [
    "def preprocess_data(title='', lead='', content=''):\n",
    "    if title != '':\n",
    "        title = \" \".join(rdrsegmenter.word_segment(title))\n",
    "        title = title + \" . \"\n",
    "    if lead != '':\n",
    "        lead = \" \".join(rdrsegmenter.word_segment(lead))\n",
    "    if content != '':\n",
    "        content = \" \".join(rdrsegmenter.word_segment(content))\n",
    "    document =  title + lead + \" \" + content\n",
    "    return document"
   ]
  },
  {
   "cell_type": "code",
   "execution_count": 4,
   "id": "645f2480",
   "metadata": {},
   "outputs": [
    {
     "name": "stdout",
     "output_type": "stream",
     "text": [
      "https://ss.vnexpress.net/api/list?from_date=5%2F1%2F2023&to_date=9%2F1%2F2023\n"
     ]
    }
   ],
   "source": [
    "fr = ['5', '1', '2023']\n",
    "to = ['9', '1', '2023']\n",
    "data = get_data(fr,to)\n",
    "# urls = [dic['new_url'] for dic in data]\n",
    "# btv = [dic['content_btv'] for dic in data]"
   ]
  },
  {
   "cell_type": "code",
   "execution_count": 7,
   "id": "5e248c8b",
   "metadata": {},
   "outputs": [],
   "source": [
    "def run(url):\n",
    "    title, lead, content = extract_html(url)\n",
    "    title = preprocess_title_and_lead(title)\n",
    "    lead = preprocess_title_and_lead(lead)\n",
    "    content = preprocess_content(content)\n",
    "    \n",
    "    docment_origin = preprocess_data(title=title, lead=lead, content=content)\n",
    "    docment_new = preprocess_data(title='', lead='', content=content)\n",
    "    output_origin, _, _ = summarize(docment_origin)\n",
    "    output_new, _, _ = summarize(docment_new)\n",
    "    \n",
    "    output_new = lead + '. ' + output_new\n",
    "    return output_origin, output_new"
   ]
  },
  {
   "cell_type": "code",
   "execution_count": 16,
   "id": "080fd7b9",
   "metadata": {},
   "outputs": [
    {
     "name": "stderr",
     "output_type": "stream",
     "text": [
      " 56%|████████████████████████████████████████████████████████████████████████▉                                                          | 49/88 [02:59<02:11,  3.38s/it]"
     ]
    },
    {
     "name": "stdout",
     "output_type": "stream",
     "text": [
      "https://vnexpress.net/indonesia-vs-viet-nam-4557023-tong-thuat.html\n"
     ]
    },
    {
     "name": "stderr",
     "output_type": "stream",
     "text": [
      "100%|███████████████████████████████████████████████████████████████████████████████████████████████████████████████████████████████████| 88/88 [05:19<00:00,  3.63s/it]\n"
     ]
    }
   ],
   "source": [
    "origin = []\n",
    "new = []\n",
    "btvs = []\n",
    "urls = []\n",
    "for dic in tqdm(data):\n",
    "    try:\n",
    "        url = dic['new_url']\n",
    "        btv = dic['content_btv']\n",
    "        output_origin, output_new = run(url)\n",
    "        origin.append(output_origin)\n",
    "        new.append(output_new)\n",
    "        btvs.append(btv)\n",
    "        urls.append(url)\n",
    "    except:\n",
    "        print(url)"
   ]
  },
  {
   "cell_type": "code",
   "execution_count": 19,
   "id": "e8ffc558",
   "metadata": {},
   "outputs": [],
   "source": [
    "df = pd.DataFrame({'url': urls, 'origin': origin, 'new': new, 'btv': btvs})"
   ]
  },
  {
   "cell_type": "code",
   "execution_count": 20,
   "id": "71acef11",
   "metadata": {},
   "outputs": [
    {
     "data": {
      "text/html": [
       "<div>\n",
       "<style scoped>\n",
       "    .dataframe tbody tr th:only-of-type {\n",
       "        vertical-align: middle;\n",
       "    }\n",
       "\n",
       "    .dataframe tbody tr th {\n",
       "        vertical-align: top;\n",
       "    }\n",
       "\n",
       "    .dataframe thead th {\n",
       "        text-align: right;\n",
       "    }\n",
       "</style>\n",
       "<table border=\"1\" class=\"dataframe\">\n",
       "  <thead>\n",
       "    <tr style=\"text-align: right;\">\n",
       "      <th></th>\n",
       "      <th>url</th>\n",
       "      <th>origin</th>\n",
       "      <th>new</th>\n",
       "      <th>btv</th>\n",
       "    </tr>\n",
       "  </thead>\n",
       "  <tbody>\n",
       "    <tr>\n",
       "      <th>0</th>\n",
       "      <td>https://vnexpress.net/anh-buoc-trum-buon-nguoi...</td>\n",
       "      <td>Toà án Anh vừa yêu cầu Ronan Hughes, kẻ cầm đầ...</td>\n",
       "      <td>Toà án Anh yêu cầu Ronan Hughes, kẻ cầm đầu đư...</td>\n",
       "      <td>Tòa án Anh yêu cầu Ronan Hughes, kẻ cầm đầu đư...</td>\n",
       "    </tr>\n",
       "    <tr>\n",
       "      <th>1</th>\n",
       "      <td>https://vnexpress.net/so-nguoi-chet-do-covid-1...</td>\n",
       "      <td>Nhật Bản vừa gióng lên hồi chuông cảnh báo vì ...</td>\n",
       "      <td>Nhật Bản gióng lên hồi chuông cảnh báo vì số c...</td>\n",
       "      <td>Số người chết do Covid-19 ở Nhật Bản đột ngột ...</td>\n",
       "    </tr>\n",
       "    <tr>\n",
       "      <th>2</th>\n",
       "      <td>https://vnexpress.net/bao-loan-o-nha-quoc-hoi-...</td>\n",
       "      <td>Những người ủng hộ cựu lãnh đạo Brazil Jair Bo...</td>\n",
       "      <td>Những người ủng hộ cựu lãnh đạo Brazil Jair Bo...</td>\n",
       "      <td>Hôm qua, những người ủng hộ cựu lãnh đạo Brazi...</td>\n",
       "    </tr>\n",
       "    <tr>\n",
       "      <th>3</th>\n",
       "      <td>https://vnexpress.net/kiev-noi-ukraine-la-bai-...</td>\n",
       "      <td>Ukraine nói chiến sự với Nga khiến nước này hi...</td>\n",
       "      <td>Thủ tướng Ukraine Denys Shmyhal nói chiến sự v...</td>\n",
       "      <td>Thủ tướng Ukraine nói chiến sự với Nga khiến n...</td>\n",
       "    </tr>\n",
       "    <tr>\n",
       "      <th>4</th>\n",
       "      <td>https://vnexpress.net/ukraine-bac-tin-nga-ha-h...</td>\n",
       "      <td>Ukraine bác tin Nga hạ hơn 600 binh sĩ nước nà...</td>\n",
       "      <td>Ukraine bác tin Nga hạ hơn 600 binh sĩ nước nà...</td>\n",
       "      <td>Sau khi Nga tuyên bố hạ hơn 600 binh sĩ Ukr...</td>\n",
       "    </tr>\n",
       "    <tr>\n",
       "      <th>...</th>\n",
       "      <td>...</td>\n",
       "      <td>...</td>\n",
       "      <td>...</td>\n",
       "      <td>...</td>\n",
       "    </tr>\n",
       "    <tr>\n",
       "      <th>82</th>\n",
       "      <td>https://vnexpress.net/ong-macron-hua-chuyen-xe...</td>\n",
       "      <td>Tổng thống Pháp Macron vừa đồng ý cung cấp cho...</td>\n",
       "      <td>Ông Macron đồng ý cung cấp cho Kiev một số xe ...</td>\n",
       "      <td>Tổng thống Pháp đồng ý cung cấp cho Kiev một s...</td>\n",
       "    </tr>\n",
       "    <tr>\n",
       "      <th>83</th>\n",
       "      <td>https://vnexpress.net/ong-vo-van-thuong-xu-ly-...</td>\n",
       "      <td>Ông Võ Văn Thưởng đề nghị Ban Nội chính Trung ...</td>\n",
       "      <td>Thường trực Ban Bí thư Võ Văn Thưởng đề nghị B...</td>\n",
       "      <td>Thường trực Ban Bí thư Võ Văn Thưởng đề nghị B...</td>\n",
       "    </tr>\n",
       "    <tr>\n",
       "      <th>84</th>\n",
       "      <td>https://vnexpress.net/4-pho-giam-doc-trung-tam...</td>\n",
       "      <td>4 phó giám đốc Trung tâm đăng kiểm xe cơ giới ...</td>\n",
       "      <td>4 phó giám đốc Trung tâm đăng kiểm xe cơ giới ...</td>\n",
       "      <td>4 phó giám đốc trung tâm đăng kiểm 9 8 0 6 D t...</td>\n",
       "    </tr>\n",
       "    <tr>\n",
       "      <th>85</th>\n",
       "      <td>https://vnexpress.net/ong-trump-keu-goi-dang-c...</td>\n",
       "      <td>Cựu tổng thống Mỹ Trump vừa kêu gọi các đảng v...</td>\n",
       "      <td>Cựu tổng thống Mỹ Trump kêu gọi các đảng viên ...</td>\n",
       "      <td>Cựu tổng thống Mỹ Donald Trump mới đây kêu gọi...</td>\n",
       "    </tr>\n",
       "    <tr>\n",
       "      <th>86</th>\n",
       "      <td>https://vnexpress.net/nga-trien-khai-ten-lua-s...</td>\n",
       "      <td>Tổng thống Nga Putin điều chiến hạm mang tên l...</td>\n",
       "      <td>Tổng thống Nga Putin điều chiến hạm mang tên l...</td>\n",
       "      <td>Nga triển khai tên lửa siêu vượt âm Zircon tới...</td>\n",
       "    </tr>\n",
       "  </tbody>\n",
       "</table>\n",
       "<p>87 rows × 4 columns</p>\n",
       "</div>"
      ],
      "text/plain": [
       "                                                  url  \\\n",
       "0   https://vnexpress.net/anh-buoc-trum-buon-nguoi...   \n",
       "1   https://vnexpress.net/so-nguoi-chet-do-covid-1...   \n",
       "2   https://vnexpress.net/bao-loan-o-nha-quoc-hoi-...   \n",
       "3   https://vnexpress.net/kiev-noi-ukraine-la-bai-...   \n",
       "4   https://vnexpress.net/ukraine-bac-tin-nga-ha-h...   \n",
       "..                                                ...   \n",
       "82  https://vnexpress.net/ong-macron-hua-chuyen-xe...   \n",
       "83  https://vnexpress.net/ong-vo-van-thuong-xu-ly-...   \n",
       "84  https://vnexpress.net/4-pho-giam-doc-trung-tam...   \n",
       "85  https://vnexpress.net/ong-trump-keu-goi-dang-c...   \n",
       "86  https://vnexpress.net/nga-trien-khai-ten-lua-s...   \n",
       "\n",
       "                                               origin  \\\n",
       "0   Toà án Anh vừa yêu cầu Ronan Hughes, kẻ cầm đầ...   \n",
       "1   Nhật Bản vừa gióng lên hồi chuông cảnh báo vì ...   \n",
       "2   Những người ủng hộ cựu lãnh đạo Brazil Jair Bo...   \n",
       "3   Ukraine nói chiến sự với Nga khiến nước này hi...   \n",
       "4   Ukraine bác tin Nga hạ hơn 600 binh sĩ nước nà...   \n",
       "..                                                ...   \n",
       "82  Tổng thống Pháp Macron vừa đồng ý cung cấp cho...   \n",
       "83  Ông Võ Văn Thưởng đề nghị Ban Nội chính Trung ...   \n",
       "84  4 phó giám đốc Trung tâm đăng kiểm xe cơ giới ...   \n",
       "85  Cựu tổng thống Mỹ Trump vừa kêu gọi các đảng v...   \n",
       "86  Tổng thống Nga Putin điều chiến hạm mang tên l...   \n",
       "\n",
       "                                                  new  \\\n",
       "0   Toà án Anh yêu cầu Ronan Hughes, kẻ cầm đầu đư...   \n",
       "1   Nhật Bản gióng lên hồi chuông cảnh báo vì số c...   \n",
       "2   Những người ủng hộ cựu lãnh đạo Brazil Jair Bo...   \n",
       "3   Thủ tướng Ukraine Denys Shmyhal nói chiến sự v...   \n",
       "4   Ukraine bác tin Nga hạ hơn 600 binh sĩ nước nà...   \n",
       "..                                                ...   \n",
       "82  Ông Macron đồng ý cung cấp cho Kiev một số xe ...   \n",
       "83  Thường trực Ban Bí thư Võ Văn Thưởng đề nghị B...   \n",
       "84  4 phó giám đốc Trung tâm đăng kiểm xe cơ giới ...   \n",
       "85  Cựu tổng thống Mỹ Trump kêu gọi các đảng viên ...   \n",
       "86  Tổng thống Nga Putin điều chiến hạm mang tên l...   \n",
       "\n",
       "                                                  btv  \n",
       "0   Tòa án Anh yêu cầu Ronan Hughes, kẻ cầm đầu đư...  \n",
       "1   Số người chết do Covid-19 ở Nhật Bản đột ngột ...  \n",
       "2   Hôm qua, những người ủng hộ cựu lãnh đạo Brazi...  \n",
       "3   Thủ tướng Ukraine nói chiến sự với Nga khiến n...  \n",
       "4   Sau khi Nga tuyên bố hạ hơn 600 binh sĩ Ukr...  \n",
       "..                                                ...  \n",
       "82  Tổng thống Pháp đồng ý cung cấp cho Kiev một s...  \n",
       "83  Thường trực Ban Bí thư Võ Văn Thưởng đề nghị B...  \n",
       "84  4 phó giám đốc trung tâm đăng kiểm 9 8 0 6 D t...  \n",
       "85  Cựu tổng thống Mỹ Donald Trump mới đây kêu gọi...  \n",
       "86  Nga triển khai tên lửa siêu vượt âm Zircon tới...  \n",
       "\n",
       "[87 rows x 4 columns]"
      ]
     },
     "execution_count": 20,
     "metadata": {},
     "output_type": "execute_result"
    }
   ],
   "source": [
    "df"
   ]
  },
  {
   "cell_type": "code",
   "execution_count": 21,
   "id": "17d94805",
   "metadata": {},
   "outputs": [],
   "source": [
    "df.to_excel('/servers/podcast_summarization/result.xlsx', index=False)"
   ]
  },
  {
   "cell_type": "code",
   "execution_count": 42,
   "id": "fbeab8e9",
   "metadata": {},
   "outputs": [
    {
     "name": "stdout",
     "output_type": "stream",
     "text": [
      "/servers/podcast_summarization/vncorenlp\r\n"
     ]
    }
   ],
   "source": [
    "!pwd"
   ]
  }
 ],
 "metadata": {
  "kernelspec": {
   "display_name": "Python 3 (ipykernel)",
   "language": "python",
   "name": "python3"
  },
  "language_info": {
   "codemirror_mode": {
    "name": "ipython",
    "version": 3
   },
   "file_extension": ".py",
   "mimetype": "text/x-python",
   "name": "python",
   "nbconvert_exporter": "python",
   "pygments_lexer": "ipython3",
   "version": "3.7.15"
  },
  "vscode": {
   "interpreter": {
    "hash": "09e0f2ac052efb216e610e5d6ffcb57dede440d04ece08b88f11481b942ca59e"
   }
  }
 },
 "nbformat": 4,
 "nbformat_minor": 5
}
